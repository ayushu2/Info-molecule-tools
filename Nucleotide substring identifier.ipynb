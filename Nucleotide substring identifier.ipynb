{
 "cells": [
  {
   "cell_type": "code",
   "execution_count": 1,
   "id": "304d4c69",
   "metadata": {},
   "outputs": [],
   "source": [
    "file = open(\"testFASTA.txt\", \"r\")\n",
    "file_content = file.read()\n",
    "file.close()"
   ]
  },
  {
   "cell_type": "code",
   "execution_count": 2,
   "id": "f25e45f5",
   "metadata": {},
   "outputs": [],
   "source": [
    "information, sequence = file_content.split('>')"
   ]
  },
  {
   "cell_type": "code",
   "execution_count": 3,
   "id": "d59e44f5",
   "metadata": {},
   "outputs": [],
   "source": [
    "substring = \"CTG\""
   ]
  },
  {
   "cell_type": "code",
   "execution_count": 4,
   "id": "6edcf567",
   "metadata": {},
   "outputs": [],
   "source": [
    "count = sequence.count(substring)"
   ]
  },
  {
   "cell_type": "code",
   "execution_count": 5,
   "id": "a85ba002",
   "metadata": {},
   "outputs": [],
   "source": [
    "z= 0"
   ]
  },
  {
   "cell_type": "code",
   "execution_count": 6,
   "id": "45c5aa25",
   "metadata": {},
   "outputs": [],
   "source": [
    "test = 0"
   ]
  },
  {
   "cell_type": "code",
   "execution_count": 7,
   "id": "85b73415",
   "metadata": {},
   "outputs": [],
   "source": [
    "Index = []"
   ]
  },
  {
   "cell_type": "code",
   "execution_count": 8,
   "id": "b0ce5d01",
   "metadata": {},
   "outputs": [],
   "source": [
    "while test < 1:\n",
    "\n",
    "    Ind_count = sequence.find(substring, z)\n",
    "    if Ind_count > -1:\n",
    "        Index.append(Ind_count)\n",
    "        z = Ind_count + 2\n",
    "        test = 0\n",
    "    else:\n",
    "        test =1 "
   ]
  },
  {
   "cell_type": "code",
   "execution_count": 9,
   "id": "b23a1846",
   "metadata": {},
   "outputs": [
    {
     "name": "stdout",
     "output_type": "stream",
     "text": [
      "[8]\n"
     ]
    }
   ],
   "source": [
    "print (Index)"
   ]
  },
  {
   "cell_type": "code",
   "execution_count": null,
   "id": "fd784de4",
   "metadata": {},
   "outputs": [],
   "source": []
  }
 ],
 "metadata": {
  "kernelspec": {
   "display_name": "Python 3",
   "language": "python",
   "name": "python3"
  },
  "language_info": {
   "codemirror_mode": {
    "name": "ipython",
    "version": 3
   },
   "file_extension": ".py",
   "mimetype": "text/x-python",
   "name": "python",
   "nbconvert_exporter": "python",
   "pygments_lexer": "ipython3",
   "version": "3.8.8"
  }
 },
 "nbformat": 4,
 "nbformat_minor": 5
}
